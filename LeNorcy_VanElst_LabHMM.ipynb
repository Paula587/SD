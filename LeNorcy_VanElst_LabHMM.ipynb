{
 "cells": [
  {
   "cell_type": "markdown",
   "metadata": {},
   "source": [
    "# Text segmentation using Hidden Markov Models"
   ]
  },
  {
   "cell_type": "code",
   "execution_count": 60,
   "metadata": {},
   "outputs": [],
   "source": [
    "import os\n",
    "import numpy as np\n",
    "from scipy.special import logsumexp"
   ]
  },
  {
   "cell_type": "markdown",
   "metadata": {},
   "source": [
    "## Task : automatic segmentation of mails, problem statement "
   ]
  },
  {
   "cell_type": "markdown",
   "metadata": {},
   "source": [
    "### Q1 : Give the value of the π vector of the initial probabilities"
   ]
  },
  {
   "cell_type": "markdown",
   "metadata": {},
   "source": [
    "The model chosen is an HMM (A, B, π) with two states, one (state 1) for\n",
    "the header, the other (state 2) for the body.\n",
    "\n",
    "As it is said in the text, the HMM is necessarily in state 1 at the beginning we have that the initial probability vector $\\pi$ is : \n",
    "$$ \\pi = (1, 0)$$\n"
   ]
  },
  {
   "cell_type": "code",
   "execution_count": 61,
   "metadata": {},
   "outputs": [],
   "source": [
    "pi = np.array([1,0])"
   ]
  },
  {
   "cell_type": "markdown",
   "metadata": {},
   "source": [
    "### Q2 : What is the probability to move from state 1 to state 2 ? What is the probability to remain in state 2 ? What is the lower/higher probability ? Try to explain why."
   ]
  },
  {
   "cell_type": "code",
   "execution_count": 62,
   "metadata": {},
   "outputs": [],
   "source": [
    "A = np.array([[0.999218078035812,0.000781921964187974],[0,1]])"
   ]
  },
  {
   "cell_type": "markdown",
   "metadata": {},
   "source": [
    "We have $A_{i,j} = P(j|i)$, so the probability of transition are in the matrix A - called transition matrix.\n",
    "The probability to move from state 1 to state 2 is $P(2|1) = A_{1,2} = A[0,1] = 0.000781921964187974 $\n",
    "The probability to remain in state 2 is $P(2|2) = A_{2,2} = A[1,1] = 1 $\n",
    "$P(2|2)$ is higher and it is normal because if we find a character from the body the next part is necessarily in the body. "
   ]
  },
  {
   "cell_type": "markdown",
   "metadata": {},
   "source": [
    "### Q3 : What is the size of B ?"
   ]
  },
  {
   "cell_type": "markdown",
   "metadata": {},
   "source": [
    "B is the observation probability matrix of size number of symbol times number of state, so here it is : $N \\times 2 = 256 \\times 2$ for 256 rows and 2 columns."
   ]
  },
  {
   "cell_type": "markdown",
   "metadata": {},
   "source": [
    "### Q4 : print the track and present and discuss the results obtained on mail11.txt to mail30.txt"
   ]
  },
  {
   "cell_type": "code",
   "execution_count": 63,
   "metadata": {},
   "outputs": [],
   "source": [
    "def Viterbi(Obs,A,B,pi):\n",
    "    N = A.shape[1] # number of states\n",
    "    T = Obs.shape[0] # number of observations\n",
    "\n",
    "    states = np.arange(0,N)\n",
    "    V = np.zeros((N,T))\n",
    "    back_pointeur = np.zeros((N,T))\n",
    "    eps = np.finfo(np.double).tiny\n",
    "\n",
    "    A_prime = np.log(A + eps)\n",
    "    B_prime = np.log(B + eps)\n",
    "    pi_prime = np.log(pi + eps)\n",
    "    \n",
    "    V[:,0] = pi_prime[:] + B_prime[Obs[0],:]\n",
    "    \n",
    "    for t in range(1, T):\n",
    "        for s in range(N): \n",
    "            \n",
    "            L = [V[i,t-1]+A_prime[i,s] for i in range(N)]\n",
    "            V[s,t] = max(L) + B_prime[Obs[t],s]\n",
    "            back_pointeur[s,t-1] = L.index(max(L)) + 1 \n",
    "    \n",
    "    L = [V[i,-1] for i in range(N)]\n",
    "    best_pathprob = max(L)\n",
    "    best_pathpointer = L.index(best_pathprob) + 1\n",
    "    path = np.zeros(T, dtype=int)   \n",
    "    path[T-1] = best_pathpointer\n",
    "    \n",
    "    for t in range(T-2,-1,-1): \n",
    "        \n",
    "        path[t] = back_pointeur[path[t+1]-1,t]\n",
    "\n",
    "    return path , best_pathprob"
   ]
  },
  {
   "cell_type": "markdown",
   "metadata": {},
   "source": [
    "After some tests we used the Viterbi algorithm by applying the argmax on the log of the function because, as at each iteration we multiply by $B[Obs[0],:]$ with a coordonate equals to $10e-6$ it means that after T observations we would have an $V = 10e-6n$ that converges quickly to 0 and it is impossible to do any calculus. "
   ]
  },
  {
   "cell_type": "code",
   "execution_count": 64,
   "metadata": {},
   "outputs": [],
   "source": [
    "B = np.loadtxt('PerlScriptAndModel/P.dat')"
   ]
  },
  {
   "cell_type": "code",
   "execution_count": 65,
   "metadata": {},
   "outputs": [
    {
     "name": "stdout",
     "output_type": "stream",
     "text": [
      "transition between 2850 and 2851\n",
      "transition between 2937 and 2938\n",
      "transition between 2303 and 2304\n",
      "transition between 4812 and 4813\n",
      "transition between 2182 and 2183\n",
      "transition between 1970 and 1971\n",
      "transition between 2281 and 2282\n",
      "transition between 2366 and 2367\n",
      "transition between 2100 and 2101\n",
      "transition between 1839 and 1840\n",
      "transition between 2102 and 2103\n",
      "transition between 2233 and 2234\n",
      "transition between 2167 and 2168\n",
      "transition between 2559 and 2560\n",
      "transition between 2318 and 2319\n",
      "transition between 2026 and 2027\n",
      "transition between 1770 and 1771\n",
      "transition between 2224 and 2225\n",
      "transition between 2343 and 2344\n",
      "transition between 2172 and 2173\n"
     ]
    }
   ],
   "source": [
    "mails = []\n",
    "paths = []\n",
    "for i in range(11,31):\n",
    "    mails.append(np.loadtxt('dat/mail{}.dat'.format(i), dtype=int))\n",
    "    paths.append(Viterbi(mails[-1],A,B,pi)[0])\n",
    "    path = paths[-1]\n",
    "    for j in range(1, len(path)):\n",
    "        if path[j] != path[j-1]:\n",
    "            print(\"transition between \" + str(j-1) + \" and \" + str(j))"
   ]
  },
  {
   "cell_type": "code",
   "execution_count": 66,
   "metadata": {},
   "outputs": [],
   "source": [
    "path = Viterbi(mails[0],A,B,pi)[0]\n",
    "with open('PerlScriptAndModel/path.txt','w') as f:\n",
    "    for state in path:\n",
    "        f.write(str(state))"
   ]
  },
  {
   "cell_type": "code",
   "execution_count": 67,
   "metadata": {},
   "outputs": [
    {
     "name": "stdout",
     "output_type": "stream",
     "text": [
      "/cal/homes/avanelst/Downloads/Data and scripts for HMM Training Session-20220608/PerlScriptAndModel\n"
     ]
    }
   ],
   "source": [
    "cd ./PerlScriptAndModel/"
   ]
  },
  {
   "cell_type": "code",
   "execution_count": 68,
   "metadata": {},
   "outputs": [
    {
     "name": "stdout",
     "output_type": "stream",
     "text": [
      "11111111111111111111111111111111111111111111111111111111111111111111111111111111111111111111111111111111111111111111111111111111111111111111111111111111111111111111111111111111111111111111111111111111111111111111111111111111111111111111111111111111111111111111111111111111111111111111111111111111111111111111111111111111111111111111111111111111111111111111111111111111111111111111111111111111111111111111111111111111111111111111111111111111111111111111111111111111111111111111111111111111111111111111111111111111111111111111111111111111111111111111111111111111111111111111111111111111111111111111111111111111111111111111111111111111111111111111111111111111111111111111111111111111111111111111111111111111111111111111111111111111111111111111111111111111111111111111111111111111111111111111111111111111111111111111111111111111111111111111111111111111111111111111111111111111111111111111111111111111111111111111111111111111111111111111111111111111111111111111111111111111111111111111111111111111111111111111111111111111111111111111111111111111111111111111111111111111111111111111111111111111111111111111111111111111111111111111111111111111111111111111111111111111111111111111111111111111111111111111111111111111111111111111111111111111111111111111111111111111111111111111111111111111111111111111111111111111111111111111111111111111111111111111111111111111111111111111111111111111111111111111111111111111111111111111111111111111111111111111111111111111111111111111111111111111111111111111111111111111111111111111111111111111111111111111111111111111111111111111111111111111111111111111111111111111111111111111111111111111111111111111111111111111111111111111111111111111111111111111111111111111111111111111111111111111111111111111111111111111111111111111111111111111111111111111111111111111111111111111111111111111111111111111111111111111111111111111111111111111111111111111111111111111111111111111111111111111111111111111111111111111111111111111111111111111111111111111111111111111111111111111111111111111111111111111111111111111111111111111111111111111111111111111111111111111111111111111111111111111111111111111111111111111111111111111111111111111111111111111111111111111111111111111111111111111111111111111111111111111111111111111111111111111111111111111111111111111111111111111111111111111111111111111111111111111111111111111111111111111111111111111111111111111111111111111111111111111111111111111111111111111111111111111111111111111111111111111111111111111111111111111111111111111111111111111111111111111111111111111111111111111111111111111111111111111111111111111111111111111111111111111111111111111111111111111111111111111111111111111111111111111111111111111111111111111111111111111111111111111111111111111111111111111111111111111111111111111111111111111111111111111111111111111111111111111111111111111111111111111111111111111111111111111111111111112222222222222222222222222222222222222222222222222222222222222222222222222222222222222222222222222222222222222222222222222222222222222222222222222222222222222222222222222222222222222222222222222222222222222222222222222222222222222222222222222222222222222222222222222222222222222222222222222222222222222222222222222222222222222222222222222222222222222222222222222222222222222222222222222222222222222222222222222222222222222222222222222222222222222222222222222222222222222222222222222222222222222222222222222222222222222222222222222222222222222222222222222222222222222222222222222222222222222222222222222222222222222222222222221111111111111111111111111111111111111111111111111111111111111111111111111111111111111111111111111111111111111111111111111111111111111111111111111111111111111111111111111111111111111111111111111111111111111111111111111111111111111111111111111111111111111111111111111111111111111111111111111111111111111111111111111111111111111111111111111111111111111111111111111111111111111111111111111111111111111111111111111111111111111111111111111111111111111111111111111111111111111111111111111111111111111111111111111111111111111111111111111111111111111111111111111111111111111111111111111111111111111111111111111111111111111111111111111111111111111111111111111111111111111111111111111111111111111111111111111111111111111111111111111111111111111111111111111111111111111111111111111111111111111111111111111111111111111111111111111111111111111111111111111111111111111111111111111111111111111111111111111111111111111111111111111111111111111111111111111111111111111111111111111111111111111111111111111111111111111111111111111111111111111111111111111111111111111111111111111111111111111111111111111111111111111111111111111111111111111111111111111111111111111111111111111111111111111111111111111111111111111111111111111111111111111111111111111111111111111111111111111111111111111111111111111111111111111111111111111111111111111111111111111111111111111111111111111111111111111111111111111111111111111111111111111111111111111111111111111111111111111111111111111111111111111111111111111111111111111111111111111111111111111111111111111111111111111111111111111111111111111111111111111111111111111111111111111111111111111111111111111111111111111111111111111111111111111111111111111111111111111111111111111111111111111111111111111111111111111111111111111111111111111111111111111111111111111111111111111111111111111111111111111111111111111111111111111111111111111111111111111111111111111111111111111111111111111111111111111111111111111111111111111111111111111111111111111111111111111111111111111111111111111111111111111111111111111111111111111111111111111111111111111111111111111111111111111111111111111111111111111111111111111111111111111111111111111111111111111111111111111111111111111111111111111111111111111111111111111111111111111111111111111111111111111111111111111111111111111111111111111111111111111111111111111111111111111111111111111111111111111111111111111111111111111111111111111111111111111111111111111111111111111111111111111111111111111111111111111111111111111111111111111111111111111111111111111111111111111111111111111111111111111111111111111111111111111111111111111111111111111111111111111111111111111111111111111111111111111111111111111111111111111111111111111111111111111111111111111111111111111111111111111111111111111111111111111111111111111111111111111111111111111111111111111111111111111111111111111111111111111111111111111111111111111111111111111111111222222222222222222222222222222222222222222222222222222222222222222222222222222222222222222222222222222222222222222222222222222222222222222222222222222222222222222222222222222222222222222222222222222222222222222222222222222222222222222222222222222222222222222222222222222222222222222222222222222222222222222222222222222222222222222222222222222222222222222222222222222222222222222222222222222222222222222222222222222222222222222222222222222222222222222222222222222222222222222222222222222222222222222222222222222222222222222222222222222222222222222222222222222222222222222222222222222222222222222222222222222222222222222222222\n",
      "From spamassassin-devel-admin@lists.sourceforge.net  Thu Aug 22 15:25:29 2002\n",
      "Return-Path: <spamassassin-devel-admin@example.sourceforge.net>\n",
      "Delivered-To: zzzz@localhost.netnoteinc.com\n",
      "Received: from localhost (localhost [127.0.0.1])\n",
      "\tby phobos.labs.netnoteinc.com (Postfix) with ESMTP id AE2D043F9B\n",
      "\tfor <zzzz@localhost>; Thu, 22 Aug 2002 10:25:29 -0400 (EDT)\n",
      "Received: from phobos [127.0.0.1]\n",
      "\tby localhost with IMAP (fetchmail-5.9.0)\n",
      "\tfor zzzz@localhost (single-drop); Thu, 22 Aug 2002 15:25:29 +0100 (IST)\n",
      "Received: from usw-sf-list2.sourceforge.net (usw-sf-fw2.sourceforge.net\n",
      "    [216.136.171.252]) by dogma.slashnull.org (8.11.6/8.11.6) with ESMTP id\n",
      "    g7MENlZ09984 for <zzzz@spamassassin.taint.org>; Thu, 22 Aug 2002 15:23:47 +0100\n",
      "Received: from usw-sf-list1-b.sourceforge.net ([10.3.1.13]\n",
      "    helo=usw-sf-list1.sourceforge.net) by usw-sf-list2.sourceforge.net with\n",
      "    esmtp (Exim 3.31-VA-mm2 #1 (Debian)) id 17hsof-00042r-00; Thu,\n",
      "    22 Aug 2002 07:20:05 -0700\n",
      "Received: from vivi.uptime.at ([62.116.87.11] helo=mail.uptime.at) by\n",
      "    usw-sf-list1.sourceforge.net with esmtp (Exim 3.31-VA-mm2 #1 (Debian)) id\n",
      "    17hsoM-0000Ge-00 for <spamassassin-devel@lists.sourceforge.net>;\n",
      "    Thu, 22 Aug 2002 07:19:47 -0700\n",
      "Received: from [192.168.0.4] (chello062178142216.4.14.vie.surfer.at\n",
      "    [62.178.142.216]) (authenticated bits=0) by mail.uptime.at (8.12.5/8.12.5)\n",
      "    with ESMTP id g7MEI7Vp022036 for\n",
      "    <spamassassin-devel@lists.sourceforge.net>; Thu, 22 Aug 2002 16:18:07\n",
      "    +0200\n",
      "User-Agent: Microsoft-Entourage/10.0.0.1309\n",
      "From: David H=?ISO-8859-1?B?9g==?=hn <dh@uptime.at>\n",
      "To: <spamassassin-devel@example.sourceforge.net>\n",
      "Message-Id: <B98ABFA4.1F87%dh@uptime.at>\n",
      "MIME-Version: 1.0\n",
      "X-Trusted: YES\n",
      "X-From-Laptop: YES\n",
      "Content-Type: text/plain; charset=\"US-ASCII\"\n",
      "Content-Transfer-Encoding: 7bit\n",
      "X-Mailscanner: Nothing found, baby\n",
      "Subject: [SAdev] Interesting approach to Spam handling..\n",
      "Sender: spamassassin-devel-admin@example.sourceforge.net\n",
      "Errors-To: spamassassin-devel-admin@example.sourceforge.net\n",
      "X-Beenthere: spamassassin-devel@example.sourceforge.net\n",
      "X-Mailman-Version: 2.0.9-sf.net\n",
      "Precedence: bulk\n",
      "List-Help: <mailto:spamassassin-devel-request@example.sourceforge.net?subject=help>\n",
      "List-Post: <mailto:spamassassin-devel@example.sourceforge.net>\n",
      "List-Subscribe: <https://example.sourceforge.net/lists/listinfo/spamassassin-devel>,\n",
      "    <mailto:spamassassin-devel-request@lists.sourceforge.net?subject=subscribe>\n",
      "List-Id: SpamAssassin Developers <spamassassin-devel.example.sourceforge.net>\n",
      "List-Unsubscribe: <https://example.sourceforge.net/lists/listinfo/spamassassin-devel>,\n",
      "    <mailto:spamassassin-devel-request@lists.sourceforge.net?subject=unsubscribe>\n",
      "List-Archive: <http://www.geocrawler.com/redir-sf.php3?list=spamassassin-devel>\n",
      "X-Original-Date: Thu, 22 Aug 2002 16:19:48 +0200\n",
      "Date: Thu, 22 Aug 2002 16:19:48 +0200\n",
      "========================== coupez ici ==========================\n",
      "\n",
      "\n",
      "Hello, have you seen and discussed this article and his approach?\n",
      "\n",
      "Thank you\n",
      "\n",
      "http://www.paulgraham.com/spam.html\n",
      "-- \"Hell, there are no rules here-- we're trying to accomplish something.\"\n",
      "-- Thomas Alva Edison\n",
      "\n",
      "\n",
      "\n",
      "\n",
      "-------------------------------------------------------\n",
      "This sf.net email is sponsored by: OSDN - Tired of that same old\n",
      "cell phone?  Get a new here for FREE!\n",
      "https://www.inphonic.com/r.asp?r=sourceforge1&refcode1=vs3390\n",
      "_______________________________________________\n",
      "Spamassassin-devel mailing list\n",
      "Spamassassin-devel@lists.sourceforge.net\n",
      "https://lists.sourceforge.net/lists/listinfo/spamassassin-devel\n",
      "\n"
     ]
    }
   ],
   "source": [
    "!perl segment.pl ../dat/mail11.txt path.txt"
   ]
  },
  {
   "cell_type": "code",
   "execution_count": 69,
   "metadata": {},
   "outputs": [
    {
     "name": "stdout",
     "output_type": "stream",
     "text": [
      "/cal/homes/avanelst/Downloads/Data and scripts for HMM Training Session-20220608\n"
     ]
    }
   ],
   "source": [
    "cd .."
   ]
  },
  {
   "cell_type": "markdown",
   "metadata": {},
   "source": [
    "### Q5 : How would you model the problem if you had to segment the mails in more than two parts (for example : header, body, signature) ?"
   ]
  },
  {
   "cell_type": "markdown",
   "metadata": {},
   "source": [
    "We don't need to change our function nor the model but we would have to change only the arguments. We would have a HMM with 3 states (0 for the header, 1 for the body and 2 for the signature), it means that A is now a $3 \\times 3$ matrix with the same idea that you can't move backward. As we would necessarily start on the header mode like the first model, we have $\\pi = (1,0,0)$  and $\\begin{pmatrix}\n",
    "a_{1,1} & a_{1,2} & a_{1,3}\\\\\n",
    "0 & a_{2,2} & a_{2,3}\\\\\n",
    "0 & 0 & 1\n",
    "\\end{pmatrix}$ \n",
    "Also, B is now a $N \\times 3$ matrix."
   ]
  },
  {
   "cell_type": "markdown",
   "metadata": {},
   "source": [
    "###  Q6 : How would you model the problem of separating the portions of mail included, knowing that they always start with the character \">\".\n",
    "\n",
    "In order to separate the portions of mail included, we could add another state called \"other_mail\" and the the matrix $A$ would now be a $4 \\times 4$ matrix that is with 4 states : header, body, other_mail and signature. Like Q5, transitions 1->2, 2->4 and 1->4 are possible but new transitions are now possible : 2->3, 3->2, 1->3, 3->4 but the other transitions are not possible. It is indeed possible to move from body to the mail included and from the mail included to the body.\n",
    "\n",
    "As we would necessarily start on the header mode like the first model, we have $\\pi = (1,0,0,0)$  and $\\begin{pmatrix}\n",
    "a_{1,1} & a_{1,2} & a_{1,3} & a_{1,4}\\\\\n",
    "0 & a_{2,2} & a_{2,3} &a_{2,4}\\\\\n",
    "0 & a_{3,2} & a_{3,3} & a_{3,4} \\\\\n",
    "0 & 0 & 0 & 1 \n",
    "\\end{pmatrix}$ \n",
    "Also, B is now a $N \\times 4$ matrix.\n",
    "\n",
    "Knowing that included mails always start with the character \">\", we could use bigrams in order to recognize the combination of \"\\n\" represented by the number 10 in ASCII and \">\" represented by the number 62 in ASCII. This would require a change in our function. A combination of 10 and number different from 62 would indicate that we are no longer in the included mail. \n"
   ]
  },
  {
   "cell_type": "markdown",
   "metadata": {},
   "source": [
    "## BONUS : unsupervised learning\n"
   ]
  },
  {
   "cell_type": "markdown",
   "metadata": {},
   "source": [
    "### Q7Bonus :"
   ]
  },
  {
   "cell_type": "markdown",
   "metadata": {},
   "source": [
    "Here are the formulas for the Alpha-calculation :\n",
    "\n",
    "Let $\\alpha_{i}(t)=P\\left(Y_{1}=y_{1}, \\ldots, Y_{t}=y_{t}, X_{t}=i \\mid \\theta\\right)$, the probability of seeing the observations $y_{1}, y_{2}, \\ldots, y_{t}$ and being in state $i$ at time $t$. This is found recursively:\n",
    "1. $\\alpha_{i}(1)=\\pi_{i} b_{i}\\left(y_{1}\\right)$\n",
    "2. $\\alpha_{i}(t+1)=b_{i}\\left(y_{t+1}\\right) \\sum_{j=1}^{N} \\alpha_{j}(t) a_{j i}$.\n",
    "\n",
    "Since this series converges exponentially to zero, we will scale $\\alpha$ by taking the log in order to avoid numerical underflowing.\n",
    "So we have \n",
    "1. $\\log(\\alpha_{i}(1))=\\log(\\pi_{i}) + \\log(b_{i}\\left(y_{1}\\right))$\n",
    "2. $\\log(\\alpha_{i}(t+1))=\\log(b_{i}\\left(y_{t+1}\\right))+ \\log(\\sum_{j=1}^{N} \\exp(\\log(\\alpha_{j}(t)) + \\log (a_{j i}))$.\n"
   ]
  },
  {
   "cell_type": "code",
   "execution_count": 70,
   "metadata": {},
   "outputs": [],
   "source": [
    "\n",
    "def alpha_calculation(Obs,A,B,pi):\n",
    "    N = A.shape[1] # number of states\n",
    "    T = Obs.shape[0] # number of observations\n",
    "    \n",
    "    alphas = np.zeros((T,N))\n",
    "\n",
    "    \n",
    "    eps = np.finfo(np.double).tiny\n",
    "    A_prime = np.log(A+eps)\n",
    "    pi_prime = np.log(pi+eps)\n",
    "    B_prime = np.log(B+eps)\n",
    " \n",
    "    \n",
    "    \n",
    "    alphas[0,:] = pi[:] + B_prime[Obs[0],:]\n",
    "    \n",
    "    for t in range(1,T):\n",
    "        for s in range(N):\n",
    "            alphas[t,s] = B_prime[Obs[t],s] + logsumexp(A_prime[:,s] + alphas[t-1,:])\n",
    "        \n",
    "    return alphas\n",
    "\n"
   ]
  },
  {
   "cell_type": "code",
   "execution_count": 71,
   "metadata": {},
   "outputs": [
    {
     "data": {
      "text/plain": [
       "array([[-5.38815493e+00, -6.86637892e+00],\n",
       "       [-8.73723058e+00, -1.00077652e+01],\n",
       "       [-1.17121030e+01, -1.29320717e+01],\n",
       "       ...,\n",
       "       [-1.32746986e+04, -1.29978429e+04],\n",
       "       [-1.32786710e+04, -1.30015075e+04],\n",
       "       [-1.32826434e+04, -1.30051722e+04]])"
      ]
     },
     "execution_count": 71,
     "metadata": {},
     "output_type": "execute_result"
    }
   ],
   "source": [
    "alphas = alpha_calculation(mails[0],A,B,pi)\n",
    "alphas"
   ]
  },
  {
   "cell_type": "markdown",
   "metadata": {},
   "source": [
    "Here are the formulas for the Beta-calculation :\n",
    "\n",
    "Let $\\beta_{i}(t)=P\\left(Y_{t+1}=y_{t+1}, \\ldots, Y_{T}=y_{T} \\mid X_{t}=i, \\theta\\right)$ that is the probability of the ending partial sequence $y_{t+1}, \\ldots, y_{T}$ given starting state $i$ at time $t$. We calculate $\\beta_{i}(t)$ as,\n",
    "1. $\\beta_{i}(T)=1$,\n",
    "2. $\\beta_{i}(t)=\\sum_{j=1}^{N} \\beta_{j}(t+1) a_{i j} b_{j}\\left(y_{t+1}\\right)$."
   ]
  },
  {
   "cell_type": "code",
   "execution_count": 72,
   "metadata": {},
   "outputs": [],
   "source": [
    "def beta_calculation(Obs,A,B):\n",
    "    N = A.shape[1] # number of states\n",
    "    T = Obs.shape[0] # number of observations\n",
    "    \n",
    "    betas = np.zeros((T,N))\n",
    "\n",
    "    eps = np.finfo(np.double).tiny\n",
    "    A_prime = np.log(A+eps)\n",
    "    B_prime = np.log(B+eps)\n",
    " \n",
    "    betas[T-1,:] = np.ones((1,N))\n",
    "    \n",
    "    for t in range(T-2,-1,-1):\n",
    "        for s in range(N):\n",
    "            betas[t,s] = logsumexp(A_prime[s,:] + betas[t+1,:] + B_prime[Obs[t+1],:])\n",
    "        \n",
    "    return betas\n"
   ]
  },
  {
   "cell_type": "code",
   "execution_count": 73,
   "metadata": {},
   "outputs": [
    {
     "data": {
      "text/plain": [
       "array([[-1.29987841e+04, -1.36954134e+04],\n",
       "       [-1.29954350e+04, -1.36922686e+04],\n",
       "       [-1.29924601e+04, -1.36893415e+04],\n",
       "       ...,\n",
       "       [-6.94230241e+00, -6.32934995e+00],\n",
       "       [-2.97134183e+00, -2.66467497e+00],\n",
       "       [ 1.00000000e+00,  1.00000000e+00]])"
      ]
     },
     "execution_count": 73,
     "metadata": {},
     "output_type": "execute_result"
    }
   ],
   "source": [
    "betas = beta_calculation(mails[0],A,B)\n",
    "betas"
   ]
  },
  {
   "cell_type": "markdown",
   "metadata": {},
   "source": [
    "We have the following formulas to compute $\\gamma$ and $\\xi$ :\n",
    "\n",
    "$$\n",
    "\\gamma_{i}(t)=\\frac{\\alpha_{i}(t) \\beta_{i}(t)}{\\sum_{j=1}^{N} \\alpha_{j}(t) \\beta_{j}(t)}\n",
    "$$\n",
    "\n",
    "$$\n",
    "\\xi_{i j}(t)=\\frac{\\alpha_{i}(t) a_{i j} \\beta_{j}(t+1) b_{j}\\left(y_{t+1}\\right)}{\\sum_{k=1}^{N} \\sum_{w=1}^{N} \\alpha_{k}(t) a_{k w} \\beta_{w}(t+1) b_{w}\\left(y_{t+1}\\right)},\n",
    "$$\n"
   ]
  },
  {
   "cell_type": "code",
   "execution_count": 74,
   "metadata": {},
   "outputs": [],
   "source": [
    "def gamma_calculation(alphas, betas):\n",
    "    T,N = alphas.shape\n",
    "    gammas = np.zeros((T,N))\n",
    "    for t in range(T):\n",
    "        den = logsumexp(alphas[t,:] + betas[t,:])\n",
    "        gammas[t,:] = alphas[t,:] + betas[t,:] - den\n",
    "    return np.exp(gammas)\n",
    "\n",
    "\n",
    "def xi_calculation(Obs, A, B, alphas, betas):\n",
    "    T,N = alphas.shape\n",
    "    eps = np.finfo(np.double).tiny\n",
    "    A_prime = np.log(A+eps)\n",
    "    B_prime = np.log(B+eps)\n",
    "\n",
    "    xis = np.zeros((T-1,N,N))\n",
    "\n",
    "    for t in range(T-1):\n",
    "        for i in range(N):\n",
    "            for j in range(N):\n",
    "                den = logsumexp(alphas[t,:] + A_prime[:,:] + betas[t+1, :] + B_prime[Obs[t+1], :])\n",
    "                xis[t,i,j] = alphas[t,i] + A_prime[i,j] + betas[t+1,j] + B_prime[Obs[t+1],j] - den\n",
    "    return np.exp(xis)"
   ]
  },
  {
   "cell_type": "code",
   "execution_count": 75,
   "metadata": {},
   "outputs": [
    {
     "data": {
      "text/plain": [
       "array([[1.00000000e+000, 6.54240668e-304],\n",
       "       [1.00000000e+000, 6.56478863e-304],\n",
       "       [1.00000000e+000, 6.58301412e-304],\n",
       "       ...,\n",
       "       [3.13977416e-121, 1.00000000e+000],\n",
       "       [3.13524244e-121, 1.00000000e+000],\n",
       "       [3.13191110e-121, 1.00000000e+000]])"
      ]
     },
     "execution_count": 75,
     "metadata": {},
     "output_type": "execute_result"
    }
   ],
   "source": [
    "gamma = gamma_calculation(alphas, betas)\n",
    "gamma"
   ]
  },
  {
   "cell_type": "code",
   "execution_count": 76,
   "metadata": {},
   "outputs": [
    {
     "data": {
      "text/plain": [
       "array([[[1.00000000e+000, 2.24327286e-306],\n",
       "        [5.07808102e-309, 6.54235590e-304]],\n",
       "\n",
       "       [[1.00000000e+000, 1.82879987e-306],\n",
       "        [6.25025868e-309, 6.56472612e-304]],\n",
       "\n",
       "       [[1.00000000e+000, 1.74345021e-306],\n",
       "        [6.57443540e-309, 6.58294838e-304]],\n",
       "\n",
       "       ...,\n",
       "\n",
       "       [[3.13732102e-121, 5.67105033e-124],\n",
       "        [9.62506270e-309, 9.99218689e-001]],\n",
       "\n",
       "       [[3.13279284e-121, 4.52818585e-124],\n",
       "        [1.20369247e-308, 9.99218689e-001]],\n",
       "\n",
       "       [[3.12946411e-121, 3.32873188e-124],\n",
       "        [1.63568349e-308, 9.99218689e-001]]])"
      ]
     },
     "execution_count": 76,
     "metadata": {},
     "output_type": "execute_result"
    }
   ],
   "source": [
    "xi = xi_calculation(mails[0], A, B, alphas, betas)\n",
    "xi"
   ]
  },
  {
   "cell_type": "markdown",
   "metadata": {},
   "source": [
    "We have the following formulas to update $\\pi$; the matrix $A$ and the matrix $B$ :\n",
    "\n",
    "$\\pi_{i}^{*}=\\gamma_{i}(1)$\n",
    "\n",
    "$$\n",
    "a_{i j}^{*}=\\frac{\\sum_{t=1}^{T-1} \\xi_{i j}(t)}{\\sum_{t=1}^{T-1} \\gamma_{i}(t)}\n",
    "$$\n",
    "\n",
    "$$\n",
    "b_{i}^{*}\\left(v_{k}\\right)=\\frac{\\sum_{t=1}^{T} 1_{y_{t}=v_{k}} \\gamma_{i}(t)}{\\sum_{t=1}^{T} \\gamma_{i}(t)}\n",
    "$$\n",
    "where\n",
    "$$\n",
    "1_{y_{t}=v_{k}}= \\begin{cases}1 & \\text { if } y_{t}=v_{k} \\\\ 0 & \\text { otherwise }\\end{cases}\n",
    "$$"
   ]
  },
  {
   "cell_type": "code",
   "execution_count": 77,
   "metadata": {},
   "outputs": [],
   "source": [
    "def updated_pi(gamma):\n",
    "    pi = np.zeros(gamma.shape[1])\n",
    "    pi = gamma[0,:]\n",
    "    return pi"
   ]
  },
  {
   "cell_type": "code",
   "execution_count": 78,
   "metadata": {},
   "outputs": [
    {
     "data": {
      "text/plain": [
       "array([1.00000000e+000, 6.54240668e-304])"
      ]
     },
     "execution_count": 78,
     "metadata": {},
     "output_type": "execute_result"
    }
   ],
   "source": [
    "updated_pi(gamma)"
   ]
  },
  {
   "cell_type": "code",
   "execution_count": 79,
   "metadata": {},
   "outputs": [],
   "source": [
    "def updated_A(xi,gamma):\n",
    "    N = gamma.shape[1]\n",
    "    A = np.zeros((N,N))\n",
    "    for i in range(N):\n",
    "        for j in range(N):\n",
    "            num = np.sum(xi[:-1,i,j])\n",
    "            denom = np.sum(gamma[:-1,i])\n",
    "            A[i,j] = num/denom\n",
    "    return A \n"
   ]
  },
  {
   "cell_type": "code",
   "execution_count": 80,
   "metadata": {},
   "outputs": [
    {
     "data": {
      "text/plain": [
       "array([[9.99732670e-001, 4.46518346e-004],\n",
       "       [7.15656210e-279, 9.98874944e-001]])"
      ]
     },
     "execution_count": 80,
     "metadata": {},
     "output_type": "execute_result"
    }
   ],
   "source": [
    "updated_A(xi,gamma)"
   ]
  },
  {
   "cell_type": "code",
   "execution_count": 81,
   "metadata": {},
   "outputs": [],
   "source": [
    "def updated_B(Obs,gamma):\n",
    "    N = gamma.shape[1]\n",
    "    B = np.zeros((256,N))\n",
    "    T = gamma.shape[0]\n",
    "    for v in range(256):\n",
    "        for i in range(N):\n",
    "            num=0\n",
    "            for t in range(T):\n",
    "                if Obs[t]==v :\n",
    "                    num+= gamma[t,i]\n",
    "            denom = np.sum(gamma[:,i])\n",
    "            B[v,i] = num/denom\n",
    "    return B "
   ]
  },
  {
   "cell_type": "code",
   "execution_count": 82,
   "metadata": {},
   "outputs": [
    {
     "data": {
      "text/plain": [
       "array([[0.00000000e+000, 0.00000000e+000],\n",
       "       [0.00000000e+000, 0.00000000e+000],\n",
       "       [0.00000000e+000, 0.00000000e+000],\n",
       "       [0.00000000e+000, 0.00000000e+000],\n",
       "       [0.00000000e+000, 0.00000000e+000],\n",
       "       [0.00000000e+000, 0.00000000e+000],\n",
       "       [0.00000000e+000, 0.00000000e+000],\n",
       "       [0.00000000e+000, 0.00000000e+000],\n",
       "       [0.00000000e+000, 0.00000000e+000],\n",
       "       [1.57215692e-003, 3.21018951e-286],\n",
       "       [1.79449556e-002, 2.83038502e-002],\n",
       "       [0.00000000e+000, 0.00000000e+000],\n",
       "       [0.00000000e+000, 0.00000000e+000],\n",
       "       [0.00000000e+000, 0.00000000e+000],\n",
       "       [0.00000000e+000, 0.00000000e+000],\n",
       "       [0.00000000e+000, 0.00000000e+000],\n",
       "       [0.00000000e+000, 0.00000000e+000],\n",
       "       [0.00000000e+000, 0.00000000e+000],\n",
       "       [0.00000000e+000, 0.00000000e+000],\n",
       "       [0.00000000e+000, 0.00000000e+000],\n",
       "       [0.00000000e+000, 0.00000000e+000],\n",
       "       [0.00000000e+000, 0.00000000e+000],\n",
       "       [0.00000000e+000, 0.00000000e+000],\n",
       "       [0.00000000e+000, 0.00000000e+000],\n",
       "       [0.00000000e+000, 0.00000000e+000],\n",
       "       [0.00000000e+000, 0.00000000e+000],\n",
       "       [0.00000000e+000, 0.00000000e+000],\n",
       "       [0.00000000e+000, 0.00000000e+000],\n",
       "       [0.00000000e+000, 0.00000000e+000],\n",
       "       [0.00000000e+000, 0.00000000e+000],\n",
       "       [0.00000000e+000, 0.00000000e+000],\n",
       "       [0.00000000e+000, 0.00000000e+000],\n",
       "       [7.96502503e-002, 6.37651883e-002],\n",
       "       [3.87155810e-068, 1.07443155e-003],\n",
       "       [6.54404542e-004, 2.50881346e-003],\n",
       "       [7.86078462e-004, 5.77725955e-142],\n",
       "       [0.00000000e+000, 0.00000000e+000],\n",
       "       [3.93039227e-004, 1.12074722e-011],\n",
       "       [2.69172694e-068, 1.07443155e-003],\n",
       "       [7.98315734e-026, 1.07443155e-003],\n",
       "       [6.68166692e-003, 5.35645072e-071],\n",
       "       [6.68166692e-003, 1.31952960e-061],\n",
       "       [0.00000000e+000, 0.00000000e+000],\n",
       "       [1.74205523e-003, 6.09989104e-004],\n",
       "       [3.77678802e-003, 3.64319496e-003],\n",
       "       [2.73019973e-002, 8.00840481e-002],\n",
       "       [4.03919680e-002, 2.17375921e-002],\n",
       "       [5.19328805e-003, 1.58874534e-002],\n",
       "       [2.94171100e-002, 4.46402033e-003],\n",
       "       [2.19569723e-002, 3.36879202e-003],\n",
       "       [2.70714847e-002, 3.35511719e-003],\n",
       "       [4.60490521e-003, 2.45384425e-003],\n",
       "       [5.27941797e-003, 6.09962693e-004],\n",
       "       [4.71647077e-003, 1.53866493e-025],\n",
       "       [5.67245734e-003, 6.09962310e-004],\n",
       "       [7.75807831e-003, 2.80763056e-004],\n",
       "       [6.06549575e-003, 6.09964561e-004],\n",
       "       [5.95393101e-003, 1.98937502e-003],\n",
       "       [1.93633106e-002, 1.26078175e-002],\n",
       "       [2.71275265e-003, 1.05305550e-004],\n",
       "       [5.39610320e-003, 2.43984924e-003],\n",
       "       [4.22409192e-003, 3.49485437e-003],\n",
       "       [5.39610313e-003, 2.43984945e-003],\n",
       "       [2.69805160e-003, 4.44321927e-003],\n",
       "       [6.29374727e-003, 3.20929951e-003],\n",
       "       [7.25230582e-003, 2.73779938e-003],\n",
       "       [1.85363059e-003, 3.04981155e-004],\n",
       "       [1.00923893e-003, 4.64389013e-004],\n",
       "       [3.20265639e-003, 1.98937501e-003],\n",
       "       [5.66547860e-003, 3.85233439e-003],\n",
       "       [2.35510479e-003, 1.08298951e-003],\n",
       "       [3.93039231e-004, 1.07443155e-003],\n",
       "       [7.32207233e-004, 2.29612816e-003],\n",
       "       [3.56237545e-003, 1.00602915e-003],\n",
       "       [0.00000000e+000, 0.00000000e+000],\n",
       "       [0.00000000e+000, 0.00000000e+000],\n",
       "       [2.07682561e-003, 1.84370727e-003],\n",
       "       [4.89336148e-003, 5.90874314e-004],\n",
       "       [6.78795572e-004, 1.36770538e-003],\n",
       "       [6.74512901e-004, 1.37941270e-003],\n",
       "       [2.92118272e-003, 6.09962310e-004],\n",
       "       [0.00000000e+000, 0.00000000e+000],\n",
       "       [2.75127462e-003, 1.07443155e-003],\n",
       "       [5.10984833e-003, 5.37123286e-003],\n",
       "       [7.39220454e-003, 5.57865994e-003],\n",
       "       [1.01953867e-003, 4.36233146e-004],\n",
       "       [1.85362986e-003, 3.04983149e-004],\n",
       "       [0.00000000e+000, 0.00000000e+000],\n",
       "       [1.91770787e-003, 1.20424789e-003],\n",
       "       [7.70117117e-004, 4.36327252e-005],\n",
       "       [3.93039231e-004, 8.79518193e-227],\n",
       "       [3.03664063e-003, 2.94340853e-004],\n",
       "       [0.00000000e+000, 0.00000000e+000],\n",
       "       [3.03645097e-003, 2.94859303e-004],\n",
       "       [0.00000000e+000, 0.00000000e+000],\n",
       "       [1.32212995e-069, 5.04982828e-002],\n",
       "       [0.00000000e+000, 0.00000000e+000],\n",
       "       [3.81099778e-002, 5.16132478e-002],\n",
       "       [9.63325985e-003, 5.89898921e-003],\n",
       "       [1.98719024e-002, 2.19618212e-002],\n",
       "       [1.65388640e-002, 1.92544335e-002],\n",
       "       [7.16568238e-002, 8.02442580e-002],\n",
       "       [1.78803513e-002, 1.34384141e-002],\n",
       "       [1.60847863e-002, 1.29747019e-002],\n",
       "       [1.67052926e-002, 2.52460652e-002],\n",
       "       [3.73634919e-002, 4.18351316e-002],\n",
       "       [1.12978847e-003, 1.20928035e-003],\n",
       "       [2.81473670e-004, 1.37941270e-003],\n",
       "       [2.75032870e-002, 3.65565306e-002],\n",
       "       [2.30938087e-002, 2.38985737e-002],\n",
       "       [2.88177180e-002, 3.72610631e-002],\n",
       "       [4.00773035e-002, 4.08631108e-002],\n",
       "       [1.76765359e-002, 2.58143211e-002],\n",
       "       [8.44421009e-004, 9.14943465e-004],\n",
       "       [3.25757758e-002, 3.77321652e-002],\n",
       "       [6.63050300e-002, 8.30554401e-002],\n",
       "       [4.12151237e-002, 4.20504353e-002],\n",
       "       [2.43966693e-002, 1.71137148e-002],\n",
       "       [1.02352225e-002, 1.07000235e-002],\n",
       "       [6.23540468e-003, 9.81537701e-003],\n",
       "       [4.57275718e-003, 2.54172571e-003],\n",
       "       [3.00433626e-003, 4.68037589e-003],\n",
       "       [6.28862769e-003, 6.43130306e-218],\n",
       "       [0.00000000e+000, 0.00000000e+000],\n",
       "       [0.00000000e+000, 0.00000000e+000],\n",
       "       [0.00000000e+000, 0.00000000e+000],\n",
       "       [0.00000000e+000, 0.00000000e+000],\n",
       "       [0.00000000e+000, 0.00000000e+000],\n",
       "       [0.00000000e+000, 0.00000000e+000],\n",
       "       [0.00000000e+000, 0.00000000e+000],\n",
       "       [0.00000000e+000, 0.00000000e+000],\n",
       "       [0.00000000e+000, 0.00000000e+000],\n",
       "       [0.00000000e+000, 0.00000000e+000],\n",
       "       [0.00000000e+000, 0.00000000e+000],\n",
       "       [0.00000000e+000, 0.00000000e+000],\n",
       "       [0.00000000e+000, 0.00000000e+000],\n",
       "       [0.00000000e+000, 0.00000000e+000],\n",
       "       [0.00000000e+000, 0.00000000e+000],\n",
       "       [0.00000000e+000, 0.00000000e+000],\n",
       "       [0.00000000e+000, 0.00000000e+000],\n",
       "       [0.00000000e+000, 0.00000000e+000],\n",
       "       [0.00000000e+000, 0.00000000e+000],\n",
       "       [0.00000000e+000, 0.00000000e+000],\n",
       "       [0.00000000e+000, 0.00000000e+000],\n",
       "       [0.00000000e+000, 0.00000000e+000],\n",
       "       [0.00000000e+000, 0.00000000e+000],\n",
       "       [0.00000000e+000, 0.00000000e+000],\n",
       "       [0.00000000e+000, 0.00000000e+000],\n",
       "       [0.00000000e+000, 0.00000000e+000],\n",
       "       [0.00000000e+000, 0.00000000e+000],\n",
       "       [0.00000000e+000, 0.00000000e+000],\n",
       "       [0.00000000e+000, 0.00000000e+000],\n",
       "       [0.00000000e+000, 0.00000000e+000],\n",
       "       [0.00000000e+000, 0.00000000e+000],\n",
       "       [0.00000000e+000, 0.00000000e+000],\n",
       "       [0.00000000e+000, 0.00000000e+000],\n",
       "       [0.00000000e+000, 0.00000000e+000],\n",
       "       [0.00000000e+000, 0.00000000e+000],\n",
       "       [0.00000000e+000, 0.00000000e+000],\n",
       "       [0.00000000e+000, 0.00000000e+000],\n",
       "       [0.00000000e+000, 0.00000000e+000],\n",
       "       [0.00000000e+000, 0.00000000e+000],\n",
       "       [0.00000000e+000, 0.00000000e+000],\n",
       "       [0.00000000e+000, 0.00000000e+000],\n",
       "       [0.00000000e+000, 0.00000000e+000],\n",
       "       [0.00000000e+000, 0.00000000e+000],\n",
       "       [0.00000000e+000, 0.00000000e+000],\n",
       "       [0.00000000e+000, 0.00000000e+000],\n",
       "       [0.00000000e+000, 0.00000000e+000],\n",
       "       [0.00000000e+000, 0.00000000e+000],\n",
       "       [0.00000000e+000, 0.00000000e+000],\n",
       "       [0.00000000e+000, 0.00000000e+000],\n",
       "       [0.00000000e+000, 0.00000000e+000],\n",
       "       [0.00000000e+000, 0.00000000e+000],\n",
       "       [0.00000000e+000, 0.00000000e+000],\n",
       "       [0.00000000e+000, 0.00000000e+000],\n",
       "       [0.00000000e+000, 0.00000000e+000],\n",
       "       [0.00000000e+000, 0.00000000e+000],\n",
       "       [0.00000000e+000, 0.00000000e+000],\n",
       "       [0.00000000e+000, 0.00000000e+000],\n",
       "       [0.00000000e+000, 0.00000000e+000],\n",
       "       [0.00000000e+000, 0.00000000e+000],\n",
       "       [0.00000000e+000, 0.00000000e+000],\n",
       "       [0.00000000e+000, 0.00000000e+000],\n",
       "       [0.00000000e+000, 0.00000000e+000],\n",
       "       [0.00000000e+000, 0.00000000e+000],\n",
       "       [0.00000000e+000, 0.00000000e+000],\n",
       "       [0.00000000e+000, 0.00000000e+000],\n",
       "       [0.00000000e+000, 0.00000000e+000],\n",
       "       [0.00000000e+000, 0.00000000e+000],\n",
       "       [0.00000000e+000, 0.00000000e+000],\n",
       "       [0.00000000e+000, 0.00000000e+000],\n",
       "       [0.00000000e+000, 0.00000000e+000],\n",
       "       [0.00000000e+000, 0.00000000e+000],\n",
       "       [0.00000000e+000, 0.00000000e+000],\n",
       "       [0.00000000e+000, 0.00000000e+000],\n",
       "       [0.00000000e+000, 0.00000000e+000],\n",
       "       [0.00000000e+000, 0.00000000e+000],\n",
       "       [0.00000000e+000, 0.00000000e+000],\n",
       "       [0.00000000e+000, 0.00000000e+000],\n",
       "       [0.00000000e+000, 0.00000000e+000],\n",
       "       [0.00000000e+000, 0.00000000e+000],\n",
       "       [0.00000000e+000, 0.00000000e+000],\n",
       "       [0.00000000e+000, 0.00000000e+000],\n",
       "       [0.00000000e+000, 0.00000000e+000],\n",
       "       [0.00000000e+000, 0.00000000e+000],\n",
       "       [0.00000000e+000, 0.00000000e+000],\n",
       "       [0.00000000e+000, 0.00000000e+000],\n",
       "       [0.00000000e+000, 0.00000000e+000],\n",
       "       [0.00000000e+000, 0.00000000e+000],\n",
       "       [0.00000000e+000, 0.00000000e+000],\n",
       "       [0.00000000e+000, 0.00000000e+000],\n",
       "       [0.00000000e+000, 0.00000000e+000],\n",
       "       [0.00000000e+000, 0.00000000e+000],\n",
       "       [0.00000000e+000, 0.00000000e+000],\n",
       "       [0.00000000e+000, 0.00000000e+000],\n",
       "       [0.00000000e+000, 0.00000000e+000],\n",
       "       [0.00000000e+000, 0.00000000e+000],\n",
       "       [0.00000000e+000, 0.00000000e+000],\n",
       "       [0.00000000e+000, 0.00000000e+000],\n",
       "       [0.00000000e+000, 0.00000000e+000],\n",
       "       [0.00000000e+000, 0.00000000e+000],\n",
       "       [0.00000000e+000, 0.00000000e+000],\n",
       "       [0.00000000e+000, 0.00000000e+000],\n",
       "       [0.00000000e+000, 0.00000000e+000],\n",
       "       [0.00000000e+000, 0.00000000e+000],\n",
       "       [0.00000000e+000, 0.00000000e+000],\n",
       "       [0.00000000e+000, 0.00000000e+000],\n",
       "       [0.00000000e+000, 0.00000000e+000],\n",
       "       [0.00000000e+000, 0.00000000e+000],\n",
       "       [0.00000000e+000, 0.00000000e+000],\n",
       "       [0.00000000e+000, 0.00000000e+000],\n",
       "       [0.00000000e+000, 0.00000000e+000],\n",
       "       [0.00000000e+000, 0.00000000e+000],\n",
       "       [0.00000000e+000, 0.00000000e+000],\n",
       "       [0.00000000e+000, 0.00000000e+000],\n",
       "       [0.00000000e+000, 0.00000000e+000],\n",
       "       [0.00000000e+000, 0.00000000e+000],\n",
       "       [0.00000000e+000, 0.00000000e+000],\n",
       "       [0.00000000e+000, 0.00000000e+000],\n",
       "       [0.00000000e+000, 0.00000000e+000],\n",
       "       [0.00000000e+000, 0.00000000e+000],\n",
       "       [0.00000000e+000, 0.00000000e+000],\n",
       "       [0.00000000e+000, 0.00000000e+000],\n",
       "       [0.00000000e+000, 0.00000000e+000],\n",
       "       [0.00000000e+000, 0.00000000e+000],\n",
       "       [0.00000000e+000, 0.00000000e+000],\n",
       "       [0.00000000e+000, 0.00000000e+000],\n",
       "       [0.00000000e+000, 0.00000000e+000],\n",
       "       [0.00000000e+000, 0.00000000e+000],\n",
       "       [0.00000000e+000, 0.00000000e+000],\n",
       "       [0.00000000e+000, 0.00000000e+000],\n",
       "       [0.00000000e+000, 0.00000000e+000],\n",
       "       [0.00000000e+000, 0.00000000e+000],\n",
       "       [0.00000000e+000, 0.00000000e+000],\n",
       "       [0.00000000e+000, 0.00000000e+000]])"
      ]
     },
     "execution_count": 82,
     "metadata": {},
     "output_type": "execute_result"
    }
   ],
   "source": [
    "updated_B(mails[0],gamma)"
   ]
  },
  {
   "cell_type": "markdown",
   "metadata": {},
   "source": [
    "The results seem to be consistent (the probabilities are indeed between 0 and 1 and the updated matrix A and B are consistent with the first A and B)"
   ]
  }
 ],
 "metadata": {
  "interpreter": {
   "hash": "916dbcbb3f70747c44a77c7bcd40155683ae19c65e1c03b4aa3499c5328201f1"
  },
  "kernelspec": {
   "display_name": "Python 3.7.3 64-bit",
   "name": "python3"
  },
  "language_info": {
   "codemirror_mode": {
    "name": "ipython",
    "version": 3
   },
   "file_extension": ".py",
   "mimetype": "text/x-python",
   "name": "python",
   "nbconvert_exporter": "python",
   "pygments_lexer": "ipython3",
   "version": "3.7.3"
  }
 },
 "nbformat": 4,
 "nbformat_minor": 4
}
